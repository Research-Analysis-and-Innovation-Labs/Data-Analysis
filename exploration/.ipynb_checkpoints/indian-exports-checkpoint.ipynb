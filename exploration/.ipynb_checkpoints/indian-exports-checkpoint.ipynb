{
 "cells": [
  {
   "cell_type": "code",
   "execution_count": 1,
   "id": "23a57959",
   "metadata": {},
   "outputs": [],
   "source": [
    "import pandas as pd\n",
    "import os\n",
    "import shutil\n",
    "from pathlib import Path"
   ]
  },
  {
   "cell_type": "code",
   "execution_count": 8,
   "id": "d3d83bf2",
   "metadata": {},
   "outputs": [],
   "source": [
    "folder_address=r\"E:\\LABORATORY\\PROJECTS\\Data Analysis\\resources\\exports\""
   ]
  },
  {
   "cell_type": "code",
   "execution_count": 99,
   "id": "3f473448",
   "metadata": {},
   "outputs": [],
   "source": [
    "class FileModification:\n",
    "    '''modify file names, location, create dataframes'''\n",
    "    def __init__(self,folder_address):\n",
    "        '''get current working directory address'''\n",
    "        self.address=folder_address\n",
    "    \n",
    "    def original_file(self):\n",
    "        '''get original file names'''\n",
    "        os.chdir(self.address)\n",
    "        '''take only file names'''\n",
    "        self.file_names=[file for file in os.listdir() if os.path.isfile(file)]\n",
    "        return self.file_names\n",
    "    \n",
    "    def rename_file_names(self):\n",
    "        '''rename file names, save to a new directory'''\n",
    "        source=self.address\n",
    "        '''create directory'''\n",
    "        try:\n",
    "            os.chdir(source)\n",
    "            destination=os.path.join(source,'modified') \n",
    "            os.mkdir(destination) # new folder created\n",
    "        except:\n",
    "            pass\n",
    "        '''rename file names'''\n",
    "        for file in self.file_names:\n",
    "            source_file=source+'\\\\'+file\n",
    "            '''modify file name, fetch only dates'''\n",
    "            '''file modification --starts--'''\n",
    "            newfilename=\"-\".join([item for item in os.path.splitext(file)[0].split('-') if item.isdigit()])+'.csv'\n",
    "            '''file modification --ends--'''\n",
    "            final_file=destination+'\\\\'+newfilename\n",
    "            try:\n",
    "                shutil.copy2(source_file,final_file)\n",
    "            except:\n",
    "                pass\n",
    "        self.modified_destination=destination\n",
    "        return self.modified_destination\n",
    "    \n",
    "    def new_files_read(self):\n",
    "        os.chdir(self.modified_destination)\n",
    "        self.new_files=os.listdir()\n",
    "        return self.new_files\n",
    "    \n",
    "    def create_dataframes(self):\n",
    "        os.chdir(self.modified_destination)\n",
    "        self.dataframe={os.path.splitext(file)[0]:pd.read_csv(self.modified_destination+'//'+file) for file in self.new_files}\n",
    "        return self.dataframe\n",
    "    \n",
    "    def get_data(self):\n",
    "        self.original_file()\n",
    "        self.rename_file_names()\n",
    "        self.new_files_read()\n",
    "        return self.create_dataframes()"
   ]
  },
  {
   "cell_type": "code",
   "execution_count": 107,
   "id": "7934cae9",
   "metadata": {},
   "outputs": [],
   "source": [
    "project=FileModification(folder_address).get_data()"
   ]
  },
  {
   "cell_type": "code",
   "execution_count": 144,
   "id": "b7f6d706",
   "metadata": {},
   "outputs": [],
   "source": [
    "df=project['2014-2015']"
   ]
  },
  {
   "cell_type": "code",
   "execution_count": 159,
   "id": "ac5c357d",
   "metadata": {},
   "outputs": [
    {
     "data": {
      "text/plain": [
       "(20830, 7)"
      ]
     },
     "execution_count": 159,
     "metadata": {},
     "output_type": "execute_result"
    }
   ],
   "source": [
    "df.shape"
   ]
  },
  {
   "cell_type": "code",
   "execution_count": 172,
   "id": "2dc848cf",
   "metadata": {},
   "outputs": [
    {
     "data": {
      "text/plain": [
       "Index(['UNIT', 'Qty'], dtype='object')"
      ]
     },
     "execution_count": 172,
     "metadata": {},
     "output_type": "execute_result"
    }
   ],
   "source": [
    "columns=df.columns[df.isna().any()]"
   ]
  },
  {
   "cell_type": "code",
   "execution_count": null,
   "id": "14ae1a0d",
   "metadata": {},
   "outputs": [],
   "source": []
  },
  {
   "cell_type": "code",
   "execution_count": 173,
   "id": "5af261a1",
   "metadata": {},
   "outputs": [],
   "source": [
    "class DataTransformation:\n",
    "    '''tranform database'''\n",
    "    def __init__(self,datafile):\n",
    "        self.data=datafile\n",
    "        self.keys=self.data.keys()\n",
    "        self.shape=self.data.shape\n",
    "        self.description=self.data.describe()\n",
    "        self.information=self.data.info()\n",
    "        self.null_rows=self.data[self.data.isna().all(axis=1)]\n",
    "        self.null_columns=self.data.columns[self.data.isnull().any()]\n",
    "        \n",
    "        \n",
    "    \n",
    "    "
   ]
  },
  {
   "cell_type": "code",
   "execution_count": null,
   "id": "2188dc8f",
   "metadata": {},
   "outputs": [],
   "source": []
  }
 ],
 "metadata": {
  "kernelspec": {
   "display_name": "Python 3 (ipykernel)",
   "language": "python",
   "name": "python3"
  },
  "language_info": {
   "codemirror_mode": {
    "name": "ipython",
    "version": 3
   },
   "file_extension": ".py",
   "mimetype": "text/x-python",
   "name": "python",
   "nbconvert_exporter": "python",
   "pygments_lexer": "ipython3",
   "version": "3.9.12"
  }
 },
 "nbformat": 4,
 "nbformat_minor": 5
}
