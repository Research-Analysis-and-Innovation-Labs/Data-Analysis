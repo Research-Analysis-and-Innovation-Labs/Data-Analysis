{
 "cells": [
  {
   "cell_type": "code",
   "execution_count": 2,
   "id": "23a57959",
   "metadata": {},
   "outputs": [],
   "source": [
    "import pandas as pd\n",
    "import os"
   ]
  },
  {
   "cell_type": "code",
   "execution_count": 7,
   "id": "1213fdff",
   "metadata": {},
   "outputs": [],
   "source": [
    "filepath=r'E:\\LABORATORY\\PROJECTS\\Data Analysis\\resources\\exports'"
   ]
  },
  {
   "cell_type": "code",
   "execution_count": 9,
   "id": "b9a2cbd8",
   "metadata": {},
   "outputs": [
    {
     "data": {
      "text/plain": [
       "['Export201718.csv',\n",
       " 'Export201819_0.csv',\n",
       " 'Export201920_1.csv',\n",
       " 'PC-export-final-2014-2015.csv',\n",
       " 'PC-export-final-2015-2016.csv',\n",
       " 'PC-export-final-2016-2017.csv']"
      ]
     },
     "execution_count": 9,
     "metadata": {},
     "output_type": "execute_result"
    }
   ],
   "source": [
    "os.chdir(filepath)\n",
    "os.listdir()"
   ]
  },
  {
   "cell_type": "code",
   "execution_count": null,
   "id": "1f800d41",
   "metadata": {},
   "outputs": [],
   "source": []
  }
 ],
 "metadata": {
  "kernelspec": {
   "display_name": "Python 3 (ipykernel)",
   "language": "python",
   "name": "python3"
  },
  "language_info": {
   "codemirror_mode": {
    "name": "ipython",
    "version": 3
   },
   "file_extension": ".py",
   "mimetype": "text/x-python",
   "name": "python",
   "nbconvert_exporter": "python",
   "pygments_lexer": "ipython3",
   "version": "3.9.12"
  }
 },
 "nbformat": 4,
 "nbformat_minor": 5
}
